{
  "nbformat": 4,
  "nbformat_minor": 0,
  "metadata": {
    "colab": {
      "provenance": [],
      "include_colab_link": true
    },
    "kernelspec": {
      "name": "python3",
      "display_name": "Python 3"
    },
    "language_info": {
      "name": "python"
    }
  },
  "cells": [
    {
      "cell_type": "markdown",
      "metadata": {
        "id": "view-in-github",
        "colab_type": "text"
      },
      "source": [
        "<a href=\"https://colab.research.google.com/github/leonardomartins777/ChatGPT_Naturalded/blob/main/RBIE.ipynb\" target=\"_parent\"><img src=\"https://colab.research.google.com/assets/colab-badge.svg\" alt=\"Open In Colab\"/></a>"
      ]
    },
    {
      "cell_type": "code",
      "execution_count": 1,
      "metadata": {
        "id": "G-Q0IFR0vB9A"
      },
      "outputs": [],
      "source": [
        "#importando bibliotecas\n",
        "from random import randrange\n",
        "import os.path\n",
        "import requests\n",
        "import json\n",
        "import os\n",
        "import configparser"
      ]
    },
    {
      "cell_type": "markdown",
      "source": [
        "Crie Um arquivo 'config.ini' e cole o seguinte texto:\n",
        "\n",
        "[API]\n",
        "key = insira_a_chave_aqui\n",
        "\n",
        "Substitua a chave da API na variável key, mais informacoes sobre a chave API: https://platform.openai.com/account/api-keys\n"
      ],
      "metadata": {
        "id": "-BpJNidrbJfd"
      }
    },
    {
      "cell_type": "code",
      "source": [
        "#Carregando Arquivos de Configuração\n",
        "config = configparser.ConfigParser()\n",
        "config.read('config.ini')\n",
        "API_KEY = config['API']['key']\n",
        "arquivo_LATEX = ''''''\n",
        "dicionarios_questoes = []\n",
        "#MODELO gpt-3.5-turbo\tversao antiga\n",
        "modelo_3_5_0613   = \"gpt-3.5-turbo-0613\"\n"
      ],
      "metadata": {
        "id": "ekDgxWz-YrWb"
      },
      "execution_count": 2,
      "outputs": []
    },
    {
      "cell_type": "code",
      "source": [
        "questoes_fo = dict()\n",
        "questoes_fo['Q1'] = r'$\\forall x  P(x)  \\vdash \\lnot \\exists x \\lnot  P(x)$'\n",
        "\n",
        "questoes_fo['Q2'] = r'$\\lnot \\exists x \\lnot  P(x) \\vdash \\forall x  P(x)$'\n",
        "\n",
        "questoes_fo['Q3'] = r'$\\exists x  P (x) \\vdash \\lnot \\forall x \\lnot  P(x)$'\n",
        "\n",
        "questoes_fo['Q4'] = r'$\\lnot \\forall x \\lnot  P (x) \\vdash \\exists x  P(x)$'\n",
        "\n",
        "questoes_fo['Q5'] = r'$\\forall x( P(x)\\wedge Q(x)) \\vdash (\\forall x P(x)\\wedge\\forall x Q(x))$'\n",
        "\n",
        "questoes_fo['Q6'] = r'$\\forall x \\forall y  P (x,y) \\vdash \\forall y \\forall x  P (x,y)$'\n",
        "\n",
        "\n",
        "questoes_fo['Q7'] = r'$\\forall x( P \\rightarrow  Q (x)) \\vdash( P \\rightarrow\\forall x Q (x))$'\n",
        "\n",
        "questoes_fo['Q8'] = r'$\\exists x( P (x)\\vee Q (x)) \\vdash (\\exists x P (x)\\vee\\exists x Q (x))$'\n",
        "\n",
        "questoes_fo['Q9'] = r'$\\lnot \\forall x  P (x) \\vdash \\exists x \\lnot  P (x)$'\n",
        "\n",
        "questoes_fo['Q10'] = r'$\\exists x \\lnot  P (x) \\vdash \\lnot \\forall x  P (x)$'\n",
        "\n",
        "questoes_fo['Q11'] = r'$\\lnot \\exists x  P (x) \\vdash \\forall x \\lnot  P (x)$'\n",
        "\n",
        "questoes_fo['Q12'] = r'$\\forall x \\lnot  P (x) \\vdash \\lnot \\exists x  P (x)$'\n",
        "\n",
        "questoes_fo['Q13'] = r'$\\exists x( P (x)\\wedge Q ) \\vdash (\\exists x P (x)\\wedge Q )$'\n",
        "\n",
        "questoes_fo['Q14'] = r'$(\\exists x P (x)\\wedge Q ) \\vdash \\exists x( P (x)\\wedge Q )$'\n",
        "\n",
        "questoes_fo['Q15'] = r'$\\forall x( P (x)\\vee Q ) \\vdash (\\forall x P (x)\\vee Q )$'\n",
        "\n",
        "questoes_fo['Q16'] = r'$(\\forall x P (x)\\vee Q ) \\vdash \\forall x( P (x)\\vee Q )$'\n",
        "\n",
        "questoes_fo['Q17'] = r'$\\exists x( P (x)\\rightarrow Q ) \\vdash (\\forall x P (x)\\rightarrow Q )$'\n",
        "\n",
        "questoes_fo['Q18'] = r'$(\\forall x P (x)\\rightarrow Q ) \\vdash \\exists x( P (x)\\rightarrow Q ) $'\n",
        "\n",
        "questoes_fo['Q19'] = r'$\\exists x( P \\rightarrow Q (x)) \\vdash ( P \\rightarrow\\exists x Q (x)) $'\n",
        "\n",
        "questoes_fo['Q20'] = r'$( P \\rightarrow\\exists x Q (x)) \\vdash \\exists x( P \\rightarrow Q (x))$ '\n",
        "\n"
      ],
      "metadata": {
        "id": "Qpe10ibOpIO1"
      },
      "execution_count": 3,
      "outputs": []
    },
    {
      "cell_type": "code",
      "source": [
        "# A funcao recebe a chave da api e a conversa de entrada\n",
        "# retorna a resposda da API\n",
        "def chamada_api_chatGPT(API_KEY,conversa_entrada):\n",
        "    headers = {\"Authorization\": f\"Bearer {API_KEY}\", \"Content-Type\":\"application/json\"}\n",
        "    link = \"https://api.openai.com/v1/chat/completions\"\n",
        "    #id_modelo = \"gpt-3.5-turbo\"\n",
        "    id_modelo = \"gpt-3.5-turbo-0613\"\n",
        "    #id_modelo =\"gpt-4-0125-preview\"\n",
        "    body_mensagem = {\n",
        "        \"model\": id_modelo,\n",
        "        \"temperature\" : 0.2,\n",
        "        \"messages\": conversa_entrada\n",
        "    }\n",
        "    body_mensagem = json.dumps(body_mensagem)\n",
        "    resposta = requests.post(link,headers=headers,data=body_mensagem)\n",
        "    resposta = resposta.json()\n",
        "    return resposta"
      ],
      "metadata": {
        "id": "PB_LC9hp0wWy"
      },
      "execution_count": 4,
      "outputs": []
    },
    {
      "cell_type": "code",
      "source": [
        "# Texto Padrao da primeira mensagem do usuario\n",
        "user_content = r\"\"\"escreva a prova $\\forall x (H(x)\\rightarrow M(x)),\\forall x\\lnot M(x)\\vdash \\lnot\\exists x H(x)$ usando o sistema de dedução natural no estilo fitch e o pacote latex logicproof\"\"\"\n",
        "# Texto Padrao da primeira mensagem do assistente\n",
        "assistant_response = r\"\"\"\\begin{logicproof}{6}\n",
        "\\forall x (H(x)\\rightarrow M(x)) & premissa\\\\\n",
        "\\forall x \\lnot M(x) & premissa\\\\\n",
        "\\begin{subproof}\n",
        "\\exists x H(x) & hipótese\\\\\n",
        "\\begin{subproof}\n",
        "\\llap{$a\\quad$}H(a) & hipótese\\\\\n",
        "H(a)\\rightarrow M(a) & $\\forall e$ 1\\\\\n",
        "M(a) & $\\rightarrow e$ 4, 5\\\\\n",
        "\\lnot M(a) & $\\forall e$ 2\\\\\n",
        "\\bot & $\\lnot e$ 6, 7\n",
        "\\end{subproof}\n",
        "\\bot & $\\exists e$ 3,4-8\n",
        "\\end{subproof}\n",
        "\\lnot \\exists x H(x) & $\\lnot i$ 3-9\n",
        "\\end{logicproof}\n",
        "\"\"\"\n",
        "print(user_content)\n",
        "print(assistant_response)"
      ],
      "metadata": {
        "id": "MNGk436_03v9"
      },
      "execution_count": null,
      "outputs": []
    },
    {
      "cell_type": "code",
      "source": [
        "user_question = f\"\"\"escreva a prova ${questoes_fo['Q2']}$ usando o sistema de dedução natural no estilo fitch e o pacote latex logicproof\"\"\"\n",
        "user_question"
      ],
      "metadata": {
        "id": "0QTp6anV3KhL"
      },
      "execution_count": null,
      "outputs": []
    },
    {
      "cell_type": "code",
      "source": [
        "for x in range(1,21):\n",
        "  #Adicionado uma mensagem no Inicio da conversa para mostrar um exemplo de pergunta e resposta que a IA deve obedecer\n",
        "    user_question = f\"\"\"escreva a prova ${questoes_fo[f'Q{x}']}$ usando o sistema de dedução natural no estilo fitch e o pacote latex logicproof\"\"\"\n",
        "    conversa_entrada = [{\"role\": \"user\", \"content\": user_content},\n",
        "                    {\"role\": \"assistant\", \"content\":assistant_response},\n",
        "                    {\"role\": \"user\", \"content\":user_question}]\n",
        "    #Chamada da API\n",
        "    reposta_ = chamada_api_chatGPT(API_KEY,conversa_entrada)\n",
        "    try:\n",
        "      #filtrar apenas a resposta do Modelo\n",
        "        reposta_ = reposta_[\"choices\"][0][\"message\"][\"content\"]\n",
        "    except:\n",
        "        print(\"Um ERRO OCORREU\",reposta_ )\n",
        "    print(\"Questao:\",x)\n",
        "    print(\"mensagens de entrada\")\n",
        "    print(conversa_entrada)\n",
        "    print('resposta')\n",
        "    print(reposta_)\n",
        "    #SALVANDO ARQUIVO LATEX\n",
        "    arquivo_LATEX+= '\\n\\item '+questoes_fo[f'Q{x}']+' \\n\\nRESPOSTA CHAT-GPT  \\n\\n'+reposta_+' \\n\\n'\n",
        "    #SALVANDO CSV\n",
        "    dicionarios_questoes.append({'numero':f'q{x}','questao':questoes_fo[f'Q{x}'],'resposta':reposta_,'resposta_correta':'','avaliacao':''})"
      ],
      "metadata": {
        "id": "bIF4-oah02Zw"
      },
      "execution_count": null,
      "outputs": []
    },
    {
      "cell_type": "code",
      "source": [
        "arquivo_LATEX"
      ],
      "metadata": {
        "id": "LPW3QA6ryMVj"
      },
      "execution_count": null,
      "outputs": []
    },
    {
      "cell_type": "code",
      "source": [
        "dicionarios_questoes"
      ],
      "metadata": {
        "id": "nAb_otn_rASg"
      },
      "execution_count": null,
      "outputs": []
    },
    {
      "cell_type": "code",
      "source": [
        "labels = ['numero','questao','resposta','resposta_correta','avaliacao']"
      ],
      "metadata": {
        "id": "J4obrPgWYoMA"
      },
      "execution_count": 10,
      "outputs": []
    },
    {
      "cell_type": "code",
      "source": [
        "import csv\n",
        "\n",
        "try:\n",
        "    with open(\"csv_dct.csv\", \"w\") as f:\n",
        "        writer = csv.DictWriter(f, fieldnames=labels)\n",
        "        writer.writeheader()\n",
        "        for elem in dicionarios_questoes:\n",
        "            writer.writerow(elem)\n",
        "except IOError:\n",
        "    print(\"I/O error\")"
      ],
      "metadata": {
        "id": "1X69RIy1cJBL"
      },
      "execution_count": 11,
      "outputs": []
    },
    {
      "cell_type": "code",
      "source": [
        "arquivo = open('latex-resultados.txt','w')\n",
        "arquivo.write(arquivo_LATEX)\n",
        "arquivo.close()\n"
      ],
      "metadata": {
        "id": "0Rsl66cPccjF"
      },
      "execution_count": 12,
      "outputs": []
    },
    {
      "cell_type": "code",
      "source": [],
      "metadata": {
        "id": "TUxEk6sayHcj"
      },
      "execution_count": null,
      "outputs": []
    }
  ]
}