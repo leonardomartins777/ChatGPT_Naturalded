{
  "nbformat": 4,
  "nbformat_minor": 0,
  "metadata": {
    "colab": {
      "provenance": []
    },
    "kernelspec": {
      "name": "python3",
      "display_name": "Python 3"
    },
    "language_info": {
      "name": "python"
    }
  },
  "cells": [
    {
      "cell_type": "code",
      "execution_count": null,
      "metadata": {
        "id": "G-Q0IFR0vB9A"
      },
      "outputs": [],
      "source": [
        "#importando bibliotecas\n",
        "from random import randrange\n",
        "import os.path\n",
        "import requests\n",
        "import json\n",
        "import os\n",
        "import configparser"
      ]
    },
    {
      "cell_type": "markdown",
      "source": [
        "Crie Um arquivo 'config.ini' e cole o seguinte texto:\n",
        "\n",
        "[API]\n",
        "key = insira_a_chave_aqui\n",
        "\n",
        "Substitua a chave da API na variável key, mais informacoes sobre a chave API: https://platform.openai.com/account/api-keys\n"
      ],
      "metadata": {
        "id": "-BpJNidrbJfd"
      }
    },
    {
      "cell_type": "code",
      "source": [
        "#Carregando Arquivos de Configuração\n",
        "config = configparser.ConfigParser()\n",
        "config.read('config.ini')\n",
        "API_KEY = config['API']['key']\n",
        "#openai.api_key = API_KEY\n"
      ],
      "metadata": {
        "id": "ekDgxWz-YrWb"
      },
      "execution_count": null,
      "outputs": []
    },
    {
      "cell_type": "code",
      "source": [
        "questoes = dict()\n",
        "questoes['Q1'] = r'$\\vdash A \\vee( A \\wedge  B )\\rightarrow  A $'\n",
        "questoes['Q2'] = r'$\\vdash A \\wedge( A \\vee  B )\\rightarrow  A $'\n",
        "questoes['Q3'] = r'$\\vdash( A \\rightarrow( B \\rightarrow  C ))\\rightarrow( B \\rightarrow( A \\rightarrow  C ))$'\n",
        "questoes['Q4'] = r'$\\vdash( A \\rightarrow( A \\rightarrow  B ))\\rightarrow( A \\rightarrow  B )$'\n",
        "questoes['Q5'] = r'$\\vdash(\\lnot  A \\rightarrow  B )\\rightarrow((\\lnot  A \\rightarrow\\lnot  B )\\rightarrow  A )$'\n",
        "questoes['Q6'] = r'$\\vdash A \\vee\\lnot  A $'\n",
        "questoes['Q7'] = r'$\\vdash( A \\rightarrow  B )\\vee ( B \\rightarrow  A )$'\n",
        "questoes['Q8'] = r'$\\vdash A \\rightarrow  A $'\n",
        "questoes['Q9'] = r'$\\vdash( A \\rightarrow  B )\\rightarrow(( C \\rightarrow  A )\\rightarrow( C \\rightarrow  A ))$'\n",
        "questoes['Q10'] = r'$A\\land B \\rightarrow C \\vdash B \\rightarrow (A\\rightarrow C)$'\n",
        "questoes['Q11'] = r'$B \\rightarrow (A\\rightarrow C) \\vdash A\\land B \\rightarrow C$'\n",
        "questoes['Q12'] = r'$\\vdash( A \\rightarrow( B \\rightarrow  C ))\\rightarrow(( A \\rightarrow  B )\\rightarrow( A \\rightarrow  C ))$'\n",
        "questoes['Q13'] = r'$\\vdash( A \\rightarrow( B \\rightarrow  A ))$'\n",
        "questoes['Q14'] = r'$\\vdash(( A \\rightarrow  B )\\rightarrow  A )\\rightarrow  A $'\n",
        "questoes['Q15'] = r'$ A \\vee  B ,  A \\rightarrow  C ,  B \\rightarrow  C \\vdash  C $'\n",
        "questoes['Q16'] = r'$ A \\vdash\\lnot\\lnot  A $'\n",
        "questoes['Q17'] = r'$\\lnot\\lnot  A \\vdash  A $'\n",
        "questoes['Q18'] = r'$ A \\rightarrow  B , \\lnot  B \\vdash\\lnot  A $'\n",
        "questoes['Q19'] = r'$\\lnot  B \\rightarrow\\lnot  A \\vdash  A \\rightarrow  B $'\n",
        "questoes['Q20'] = r'$ A \\rightarrow  B \\vdash \\lnot  B \\rightarrow\\lnot  A $'\n",
        "questoes['Q21'] = r'$\\lnot( A \\vee  B )\\vdash \\lnot  A \\wedge\\lnot  B $'\n",
        "questoes['Q22'] = r'$\\lnot  A \\wedge\\lnot  B \\vdash \\lnot( A \\vee  B )$'\n",
        "questoes['Q23'] = r'$\\lnot( A \\wedge  B )\\vdash \\lnot  A \\vee\\lnot  B $'\n",
        "questoes['Q24'] = r'$\\lnot  A \\vee\\lnot  B \\vdash\\lnot( A \\wedge  B )$'\n",
        "questoes['Q25'] = r'$ A \\vee( B \\wedge  C )\\vdash( A \\vee  B )\\wedge( A \\vee  C )$'\n",
        "questoes['Q26'] = r'$( A \\vee  B )\\wedge( A \\vee  C )\\vdash  A \\vee( B \\wedge  C )$'\n",
        "questoes['Q27'] = r'$ A \\wedge( B \\vee  C )\\vdash ( A \\wedge  B )\\vee( A \\wedge  C )$'\n",
        "questoes['Q28'] = r'$( A \\wedge  B )\\vee( A \\wedge  C )\\vdash  A \\wedge( B \\vee  C )$'\n",
        "questoes['Q29'] = r'$ A \\vee  B , \\lnot  B \\vdash  A $'\n",
        "questoes['Q30'] = r'$ A \\vee  B \\vdash\\lnot  A \\rightarrow  B  $'\n",
        "questoes['Q31'] = r'$\\lnot  A \\rightarrow  B \\vdash  A \\vee  B $'\n",
        "questoes['Q32'] = r'$ A \\wedge  B \\vdash \\lnot( A \\rightarrow\\lnot  B )$'\n",
        "questoes['Q33'] = r'$\\lnot( A \\rightarrow\\lnot  B )\\vdash  A \\wedge  B $'\n",
        "questoes['Q34'] = r'$ A \\vee  B \\vdash \\lnot(\\lnot  A \\wedge\\lnot  B )$'\n",
        "questoes['Q35'] = r'$\\lnot(\\lnot  A \\wedge\\lnot  B )\\vdash  A \\vee  B $'\n",
        "questoes['Q36'] = r'$ A \\rightarrow  B \\vdash \\lnot( A \\wedge\\lnot  B )$'\n",
        "questoes['Q37'] = r'$\\lnot( A \\wedge\\lnot  B )\\vdash  A \\rightarrow  B $'\n",
        "questoes['Q38'] = r'$ A \\wedge  B \\vdash \\lnot(\\lnot  A \\vee\\lnot  B )$'\n",
        "questoes['Q39'] = r'$\\lnot(\\lnot  A \\vee\\lnot  B )\\vdash  A \\wedge  B $'\n",
        "questoes['Q40'] = r'$ A \\rightarrow  B \\vdash\\lnot  A \\vee  B $'\n",
        "questoes['Q41'] = r'$\\lnot  A \\vee  B \\vdash  A \\rightarrow  B $'"
      ],
      "metadata": {
        "id": "6SwzOup1zpiZ"
      },
      "execution_count": null,
      "outputs": []
    },
    {
      "cell_type": "code",
      "source": [
        "# A funcao recebe a chave da api e a conversa de entrada\n",
        "# retorna a resposda da API\n",
        "def chamada_api_chatGPT(API_KEY,conversa_entrada):\n",
        "    headers = {\"Authorization\": f\"Bearer {API_KEY}\", \"Content-Type\":\"application/json\"}\n",
        "    link = \"https://api.openai.com/v1/chat/completions\"\n",
        "    id_modelo = \"gpt-3.5-turbo\"\n",
        "    body_mensagem = {\n",
        "        \"model\": id_modelo,\n",
        "        \"temperature\" : 0.2,\n",
        "        \"messages\": conversa_entrada\n",
        "    }\n",
        "    body_mensagem = json.dumps(body_mensagem)\n",
        "    resposta = requests.post(link,headers=headers,data=body_mensagem)\n",
        "    resposta = resposta.json()\n",
        "    return resposta"
      ],
      "metadata": {
        "id": "PB_LC9hp0wWy"
      },
      "execution_count": null,
      "outputs": []
    },
    {
      "cell_type": "code",
      "source": [
        "# Texto Padrao da primeira mensagem do usuario\n",
        "user_content = r\"\"\"escreva a prova $A\\rightarrow B,B\\rightarrow C\\vdash A\\rightarrow C$ usando o sistema de dedução natural no estilo fitch e o pacote latex logicproof\"\"\"\n",
        "# Texto Padrao da primeira mensagem do assistente\n",
        "assistant_response = r\"\"\"\\begin{logicproof}{6}\n",
        "A\\rightarrow B & premissa \\\\\n",
        "B\\rightarrow C & premissa \\\\\n",
        "\\begin{subproof}\n",
        "A & hipótese \\\\\n",
        "B & $\\rightarrow e$ 3, 1 \\\\\n",
        "C & $\\rightarrow e$ 4, 2\n",
        "\\end{subproof}\n",
        "A\\rightarrow C & $\\rightarrow i$ 3-5\n",
        "\\end{logicproof}\n",
        "\"\"\"\n",
        "print(user_content)\n",
        "print(assistant_response)"
      ],
      "metadata": {
        "colab": {
          "base_uri": "https://localhost:8080/"
        },
        "id": "MNGk436_03v9",
        "outputId": "b26c4f88-e17d-4368-eafe-839071b0c644"
      },
      "execution_count": null,
      "outputs": [
        {
          "output_type": "stream",
          "name": "stdout",
          "text": [
            "escreva a prova $A\\rightarrow B,B\\rightarrow C\\vdash A\\rightarrow C$ usando o sistema de dedução natural no estilo fitch e o pacote latex logicproof\n",
            "\\begin{logicproof}{6}\n",
            "A\\rightarrow B & premissa \\\\\n",
            "B\\rightarrow C & premissa \\\\\n",
            "\\begin{subproof}\n",
            "A & hipótese \\\\\n",
            "B & $\\rightarrow e$ 3, 1 \\\\\n",
            "C & $\\rightarrow e$ 4, 2\n",
            "\\end{subproof}\n",
            "A\\rightarrow C & $\\rightarrow i$ 3-5\n",
            "\\end{logicproof}\n",
            "\n"
          ]
        }
      ]
    },
    {
      "cell_type": "code",
      "source": [
        "user_question = f\"\"\"escreva a prova ${questoes['Q2']}$ usando o sistema de dedução natural no estilo fitch e o pacote latex logicproof\"\"\"\n",
        "user_question"
      ],
      "metadata": {
        "colab": {
          "base_uri": "https://localhost:8080/",
          "height": 53
        },
        "id": "0QTp6anV3KhL",
        "outputId": "a6e73ea5-3819-439a-9782-59bd04ca3c82"
      },
      "execution_count": null,
      "outputs": [
        {
          "output_type": "execute_result",
          "data": {
            "text/plain": [
              "'escreva a prova $$\\\\vdash A \\\\wedge( A \\\\vee  B )\\\\rightarrow  A $$ usando o sistema de dedução natural no estilo fitch e o pacote latex logicproof'"
            ],
            "application/vnd.google.colaboratory.intrinsic+json": {
              "type": "string"
            }
          },
          "metadata": {},
          "execution_count": 9
        }
      ]
    },
    {
      "cell_type": "code",
      "source": [
        "for x in range(1,2):\n",
        "  #Adicionado uma mensagem no Inicio da conversa para mostrar um exemplo de pergunta e resposta que a IA deve obedecer\n",
        "    user_question = f\"\"\"escreva a prova ${questoes[f'Q{x}']}$ usando o sistema de dedução natural no estilo fitch e o pacote latex logicproof\"\"\"\n",
        "    conversa_entrada = [{\"role\": \"user\", \"content\": user_content},\n",
        "                    {\"role\": \"assistant\", \"content\":assistant_response},\n",
        "                    {\"role\": \"user\", \"content\":user_question}]\n",
        "    #Chamada da API\n",
        "    reposta_ = chamada_api_chatGPT(API_KEY,conversa_entrada)\n",
        "    try:\n",
        "      #filtrar apenas a resposta do Modelo\n",
        "        reposta_ = reposta_[\"choices\"][0][\"message\"][\"content\"]\n",
        "    except:\n",
        "        print(\"Um ERRO OCORREU\",reposta_ )\n",
        "    print(\"Questao:\",x)\n",
        "    print(\"mensagens de entrada\")\n",
        "    print(conversa_entrada)\n",
        "    print('resposta')\n",
        "    print(reposta_)"
      ],
      "metadata": {
        "id": "bIF4-oah02Zw",
        "colab": {
          "base_uri": "https://localhost:8080/"
        },
        "outputId": "eb5c6223-5636-4ec1-a10c-c9c03d80bce7"
      },
      "execution_count": null,
      "outputs": [
        {
          "output_type": "stream",
          "name": "stdout",
          "text": [
            "Questao: 1\n",
            "mensagens de entrada\n",
            "[{'role': 'user', 'content': 'escreva a prova $A\\\\rightarrow B,B\\\\rightarrow C\\\\vdash A\\\\rightarrow C$ usando o sistema de dedução natural no estilo fitch e o pacote latex logicproof'}, {'role': 'assistant', 'content': '\\\\begin{logicproof}{6}\\nA\\\\rightarrow B & premissa \\\\\\\\\\nB\\\\rightarrow C & premissa \\\\\\\\\\n\\\\begin{subproof}\\nA & hipótese \\\\\\\\\\nB & $\\\\rightarrow e$ 3, 1 \\\\\\\\\\nC & $\\\\rightarrow e$ 4, 2\\n\\\\end{subproof}\\nA\\\\rightarrow C & $\\\\rightarrow i$ 3-5\\n\\\\end{logicproof}\\n'}, {'role': 'user', 'content': 'escreva a prova $$\\\\vdash A \\\\vee( A \\\\wedge  B )\\\\rightarrow  A $$ usando o sistema de dedução natural no estilo fitch e o pacote latex logicproof'}]\n",
            "resposta\n",
            "\\begin{logicproof}{1}\n",
            "\\begin{subproof}\n",
            "A \\vee (A \\wedge B) & hipótese \\\\\n",
            "\\begin{subproof}\n",
            "A & hipótese \\\\\n",
            "A & reit \\\\\n",
            "\\end{subproof}\n",
            "\\begin{subproof}\n",
            "A \\wedge B & hipótese \\\\\n",
            "A & $\\wedge e_1$ \\\\\n",
            "\\end{subproof}\n",
            "A & $\\vee e$ 1, 2-3 \\\\\n",
            "\\end{subproof}\n",
            "(A \\vee (A \\wedge B)) \\rightarrow A & $\\rightarrow i$ 1-4 \\\\\n",
            "\\end{logicproof}\n"
          ]
        }
      ]
    },
    {
      "cell_type": "code",
      "source": [],
      "metadata": {
        "id": "LPW3QA6ryMVj"
      },
      "execution_count": null,
      "outputs": []
    }
  ]
}